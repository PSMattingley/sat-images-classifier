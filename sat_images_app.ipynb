{
  "nbformat": 4,
  "nbformat_minor": 0,
  "metadata": {
    "colab": {
      "name": "sat-images-app.ipynb",
      "provenance": [],
      "mount_file_id": "1x53zJ2XqPvx91VU8c1Y9ShIrzYPFgSRM",
      "authorship_tag": "ABX9TyPHDAn0miH6n3JM/MmHm+ok",
      "include_colab_link": true
    },
    "kernelspec": {
      "name": "python3",
      "display_name": "Python 3"
    },
    "widgets": {
      "application/vnd.jupyter.widget-state+json": {
        "46f606e5d9a04c1985e98e553548b178": {
          "model_module": "@jupyter-widgets/controls",
          "model_name": "VBoxModel",
          "state": {
            "_view_name": "VBoxView",
            "_dom_classes": [],
            "_model_name": "VBoxModel",
            "_view_module": "@jupyter-widgets/controls",
            "_model_module_version": "1.5.0",
            "_view_count": null,
            "_view_module_version": "1.5.0",
            "box_style": "",
            "layout": "IPY_MODEL_90537faebb584670bd63489fb23b520f",
            "_model_module": "@jupyter-widgets/controls",
            "children": [
              "IPY_MODEL_3839d1e5fc5f417d87256a6aa40faa25",
              "IPY_MODEL_fca06cb1779e420c80278e11eb97f953",
              "IPY_MODEL_99eab487aa54411e82e2779de05d4be2",
              "IPY_MODEL_0c5f53cff51d45c1882d7eb03a6c1a7e"
            ]
          }
        },
        "90537faebb584670bd63489fb23b520f": {
          "model_module": "@jupyter-widgets/base",
          "model_name": "LayoutModel",
          "state": {
            "_view_name": "LayoutView",
            "grid_template_rows": null,
            "right": null,
            "justify_content": null,
            "_view_module": "@jupyter-widgets/base",
            "overflow": null,
            "_model_module_version": "1.2.0",
            "_view_count": null,
            "flex_flow": null,
            "width": null,
            "min_width": null,
            "border": null,
            "align_items": null,
            "bottom": null,
            "_model_module": "@jupyter-widgets/base",
            "top": null,
            "grid_column": null,
            "overflow_y": null,
            "overflow_x": null,
            "grid_auto_flow": null,
            "grid_area": null,
            "grid_template_columns": null,
            "flex": null,
            "_model_name": "LayoutModel",
            "justify_items": null,
            "grid_row": null,
            "max_height": null,
            "align_content": null,
            "visibility": null,
            "align_self": null,
            "height": null,
            "min_height": null,
            "padding": null,
            "grid_auto_rows": null,
            "grid_gap": null,
            "max_width": null,
            "order": null,
            "_view_module_version": "1.2.0",
            "grid_template_areas": null,
            "object_position": null,
            "object_fit": null,
            "grid_auto_columns": null,
            "margin": null,
            "display": null,
            "left": null
          }
        },
        "3839d1e5fc5f417d87256a6aa40faa25": {
          "model_module": "@jupyter-widgets/controls",
          "model_name": "LabelModel",
          "state": {
            "_view_name": "LabelView",
            "style": "IPY_MODEL_ed4f8bbc064748778de66e2d45c20bcf",
            "_dom_classes": [],
            "description": "",
            "_model_name": "LabelModel",
            "placeholder": "​",
            "_view_module": "@jupyter-widgets/controls",
            "_model_module_version": "1.5.0",
            "value": "Is your image clear!",
            "_view_count": null,
            "_view_module_version": "1.5.0",
            "description_tooltip": null,
            "_model_module": "@jupyter-widgets/controls",
            "layout": "IPY_MODEL_aeac6aa419d046deb19716a9f5983395"
          }
        },
        "fca06cb1779e420c80278e11eb97f953": {
          "model_module": "@jupyter-widgets/controls",
          "model_name": "FileUploadModel",
          "state": {
            "_view_name": "FileUploadView",
            "_counter": 3,
            "style": "IPY_MODEL_9f0b16422473435183cbb735bcbe934b",
            "_dom_classes": [],
            "description": "Upload",
            "multiple": false,
            "_model_name": "FileUploadModel",
            "data": [
              null
            ],
            "button_style": "",
            "_view_module": "@jupyter-widgets/controls",
            "_model_module_version": "1.5.0",
            "accept": "",
            "_view_count": null,
            "disabled": false,
            "_view_module_version": "1.5.0",
            "error": "",
            "description_tooltip": null,
            "metadata": [
              {
                "name": "96_0f32_2020-06-26.jpeg",
                "type": "image/jpeg",
                "size": 26991,
                "lastModified": 1603110388000
              }
            ],
            "_model_module": "@jupyter-widgets/controls",
            "layout": "IPY_MODEL_4722987ebdf0425d87f54655a5965061",
            "icon": "upload"
          }
        },
        "99eab487aa54411e82e2779de05d4be2": {
          "model_module": "@jupyter-widgets/output",
          "model_name": "OutputModel",
          "state": {
            "_view_name": "OutputView",
            "msg_id": "",
            "_dom_classes": [],
            "_model_name": "OutputModel",
            "outputs": [
              {
                "output_type": "display_data",
                "metadata": {
                  "tags": []
                },
                "image/png": "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\n",
                "text/plain": "<PIL.Image.Image image mode=RGB size=128x53 at 0x7F056F932940>"
              }
            ],
            "_view_module": "@jupyter-widgets/output",
            "_model_module_version": "1.0.0",
            "_view_count": null,
            "_view_module_version": "1.0.0",
            "layout": "IPY_MODEL_3a39daf5cee744b9a3cf8d04d20ace58",
            "_model_module": "@jupyter-widgets/output"
          }
        },
        "0c5f53cff51d45c1882d7eb03a6c1a7e": {
          "model_module": "@jupyter-widgets/controls",
          "model_name": "LabelModel",
          "state": {
            "_view_name": "LabelView",
            "style": "IPY_MODEL_486edc05231444acb038ac2f6667dd46",
            "_dom_classes": [],
            "description": "",
            "_model_name": "LabelModel",
            "placeholder": "​",
            "_view_module": "@jupyter-widgets/controls",
            "_model_module_version": "1.5.0",
            "value": "Prediction: clear; Probability: 0.9985",
            "_view_count": null,
            "_view_module_version": "1.5.0",
            "description_tooltip": null,
            "_model_module": "@jupyter-widgets/controls",
            "layout": "IPY_MODEL_93da25a93a0c47c98f713dca6e2af14a"
          }
        },
        "ed4f8bbc064748778de66e2d45c20bcf": {
          "model_module": "@jupyter-widgets/controls",
          "model_name": "DescriptionStyleModel",
          "state": {
            "_view_name": "StyleView",
            "_model_name": "DescriptionStyleModel",
            "description_width": "",
            "_view_module": "@jupyter-widgets/base",
            "_model_module_version": "1.5.0",
            "_view_count": null,
            "_view_module_version": "1.2.0",
            "_model_module": "@jupyter-widgets/controls"
          }
        },
        "aeac6aa419d046deb19716a9f5983395": {
          "model_module": "@jupyter-widgets/base",
          "model_name": "LayoutModel",
          "state": {
            "_view_name": "LayoutView",
            "grid_template_rows": null,
            "right": null,
            "justify_content": null,
            "_view_module": "@jupyter-widgets/base",
            "overflow": null,
            "_model_module_version": "1.2.0",
            "_view_count": null,
            "flex_flow": null,
            "width": null,
            "min_width": null,
            "border": null,
            "align_items": null,
            "bottom": null,
            "_model_module": "@jupyter-widgets/base",
            "top": null,
            "grid_column": null,
            "overflow_y": null,
            "overflow_x": null,
            "grid_auto_flow": null,
            "grid_area": null,
            "grid_template_columns": null,
            "flex": null,
            "_model_name": "LayoutModel",
            "justify_items": null,
            "grid_row": null,
            "max_height": null,
            "align_content": null,
            "visibility": null,
            "align_self": null,
            "height": null,
            "min_height": null,
            "padding": null,
            "grid_auto_rows": null,
            "grid_gap": null,
            "max_width": null,
            "order": null,
            "_view_module_version": "1.2.0",
            "grid_template_areas": null,
            "object_position": null,
            "object_fit": null,
            "grid_auto_columns": null,
            "margin": null,
            "display": null,
            "left": null
          }
        },
        "9f0b16422473435183cbb735bcbe934b": {
          "model_module": "@jupyter-widgets/controls",
          "model_name": "ButtonStyleModel",
          "state": {
            "_view_name": "StyleView",
            "_model_name": "ButtonStyleModel",
            "_view_module": "@jupyter-widgets/base",
            "_model_module_version": "1.5.0",
            "_view_count": null,
            "button_color": null,
            "font_weight": "",
            "_view_module_version": "1.2.0",
            "_model_module": "@jupyter-widgets/controls"
          }
        },
        "4722987ebdf0425d87f54655a5965061": {
          "model_module": "@jupyter-widgets/base",
          "model_name": "LayoutModel",
          "state": {
            "_view_name": "LayoutView",
            "grid_template_rows": null,
            "right": null,
            "justify_content": null,
            "_view_module": "@jupyter-widgets/base",
            "overflow": null,
            "_model_module_version": "1.2.0",
            "_view_count": null,
            "flex_flow": null,
            "width": null,
            "min_width": null,
            "border": null,
            "align_items": null,
            "bottom": null,
            "_model_module": "@jupyter-widgets/base",
            "top": null,
            "grid_column": null,
            "overflow_y": null,
            "overflow_x": null,
            "grid_auto_flow": null,
            "grid_area": null,
            "grid_template_columns": null,
            "flex": null,
            "_model_name": "LayoutModel",
            "justify_items": null,
            "grid_row": null,
            "max_height": null,
            "align_content": null,
            "visibility": null,
            "align_self": null,
            "height": null,
            "min_height": null,
            "padding": null,
            "grid_auto_rows": null,
            "grid_gap": null,
            "max_width": null,
            "order": null,
            "_view_module_version": "1.2.0",
            "grid_template_areas": null,
            "object_position": null,
            "object_fit": null,
            "grid_auto_columns": null,
            "margin": null,
            "display": null,
            "left": null
          }
        },
        "486edc05231444acb038ac2f6667dd46": {
          "model_module": "@jupyter-widgets/controls",
          "model_name": "DescriptionStyleModel",
          "state": {
            "_view_name": "StyleView",
            "_model_name": "DescriptionStyleModel",
            "description_width": "",
            "_view_module": "@jupyter-widgets/base",
            "_model_module_version": "1.5.0",
            "_view_count": null,
            "_view_module_version": "1.2.0",
            "_model_module": "@jupyter-widgets/controls"
          }
        },
        "93da25a93a0c47c98f713dca6e2af14a": {
          "model_module": "@jupyter-widgets/base",
          "model_name": "LayoutModel",
          "state": {
            "_view_name": "LayoutView",
            "grid_template_rows": null,
            "right": null,
            "justify_content": null,
            "_view_module": "@jupyter-widgets/base",
            "overflow": null,
            "_model_module_version": "1.2.0",
            "_view_count": null,
            "flex_flow": null,
            "width": null,
            "min_width": null,
            "border": null,
            "align_items": null,
            "bottom": null,
            "_model_module": "@jupyter-widgets/base",
            "top": null,
            "grid_column": null,
            "overflow_y": null,
            "overflow_x": null,
            "grid_auto_flow": null,
            "grid_area": null,
            "grid_template_columns": null,
            "flex": null,
            "_model_name": "LayoutModel",
            "justify_items": null,
            "grid_row": null,
            "max_height": null,
            "align_content": null,
            "visibility": null,
            "align_self": null,
            "height": null,
            "min_height": null,
            "padding": null,
            "grid_auto_rows": null,
            "grid_gap": null,
            "max_width": null,
            "order": null,
            "_view_module_version": "1.2.0",
            "grid_template_areas": null,
            "object_position": null,
            "object_fit": null,
            "grid_auto_columns": null,
            "margin": null,
            "display": null,
            "left": null
          }
        },
        "3a39daf5cee744b9a3cf8d04d20ace58": {
          "model_module": "@jupyter-widgets/base",
          "model_name": "LayoutModel",
          "state": {
            "_view_name": "LayoutView",
            "grid_template_rows": null,
            "right": null,
            "justify_content": null,
            "_view_module": "@jupyter-widgets/base",
            "overflow": null,
            "_model_module_version": "1.2.0",
            "_view_count": null,
            "flex_flow": null,
            "width": null,
            "min_width": null,
            "border": null,
            "align_items": null,
            "bottom": null,
            "_model_module": "@jupyter-widgets/base",
            "top": null,
            "grid_column": null,
            "overflow_y": null,
            "overflow_x": null,
            "grid_auto_flow": null,
            "grid_area": null,
            "grid_template_columns": null,
            "flex": null,
            "_model_name": "LayoutModel",
            "justify_items": null,
            "grid_row": null,
            "max_height": null,
            "align_content": null,
            "visibility": null,
            "align_self": null,
            "height": null,
            "min_height": null,
            "padding": null,
            "grid_auto_rows": null,
            "grid_gap": null,
            "max_width": null,
            "order": null,
            "_view_module_version": "1.2.0",
            "grid_template_areas": null,
            "object_position": null,
            "object_fit": null,
            "grid_auto_columns": null,
            "margin": null,
            "display": null,
            "left": null
          }
        }
      }
    }
  },
  "cells": [
    {
      "cell_type": "markdown",
      "metadata": {
        "id": "view-in-github",
        "colab_type": "text"
      },
      "source": [
        "<a href=\"https://colab.research.google.com/github/PSMattingley/sat-images-classifier/blob/master/sat_images_app.ipynb\" target=\"_parent\"><img src=\"https://colab.research.google.com/assets/colab-badge.svg\" alt=\"Open In Colab\"/></a>"
      ]
    },
    {
      "cell_type": "code",
      "metadata": {
        "id": "dbqpmCEllrf2"
      },
      "source": [
        "from fastai.vision.widgets import *\n",
        "from fastai.vision.all import *"
      ],
      "execution_count": 1,
      "outputs": []
    },
    {
      "cell_type": "code",
      "metadata": {
        "id": "2-diHtP2mRb6"
      },
      "source": [
        "path = Path()\n",
        "learn_inf = load_learner(path/'export.pkl')"
      ],
      "execution_count": 3,
      "outputs": []
    },
    {
      "cell_type": "code",
      "metadata": {
        "id": "7DhWIj0lmjwS"
      },
      "source": [
        "btn_upload = widgets.FileUpload()\n",
        "lbl_pred = widgets.Label()\n",
        "out_pl = widgets.Output()"
      ],
      "execution_count": 12,
      "outputs": []
    },
    {
      "cell_type": "code",
      "metadata": {
        "id": "pQHUNh3Qmqpi"
      },
      "source": [
        "def on_data_change(change):\n",
        "    lbl_pred.value = ''\n",
        "    img = PILImage.create(btn_upload.data[-1])\n",
        "    out_pl.clear_output()\n",
        "    with out_pl: display(img.to_thumb(128,128))\n",
        "    pred,pred_idx,probs = learn_inf.predict(img)\n",
        "    lbl_pred.value = f'Prediction: {pred}; Probability: {probs[pred_idx]:.04f}'"
      ],
      "execution_count": 8,
      "outputs": []
    },
    {
      "cell_type": "code",
      "metadata": {
        "id": "xluEjbJZqGZP"
      },
      "source": [
        "btn_upload.observe(on_data_change, names=['data'])"
      ],
      "execution_count": 14,
      "outputs": []
    },
    {
      "cell_type": "code",
      "metadata": {
        "id": "hij9By7Tmrdl",
        "outputId": "6d73eba8-2ed8-4e19-d45e-77e1790a5c3a",
        "colab": {
          "base_uri": "https://localhost:8080/",
          "height": 166,
          "referenced_widgets": [
            "46f606e5d9a04c1985e98e553548b178",
            "90537faebb584670bd63489fb23b520f",
            "3839d1e5fc5f417d87256a6aa40faa25",
            "fca06cb1779e420c80278e11eb97f953",
            "99eab487aa54411e82e2779de05d4be2",
            "0c5f53cff51d45c1882d7eb03a6c1a7e",
            "ed4f8bbc064748778de66e2d45c20bcf",
            "aeac6aa419d046deb19716a9f5983395",
            "9f0b16422473435183cbb735bcbe934b",
            "4722987ebdf0425d87f54655a5965061",
            "486edc05231444acb038ac2f6667dd46",
            "93da25a93a0c47c98f713dca6e2af14a",
            "3a39daf5cee744b9a3cf8d04d20ace58"
          ]
        }
      },
      "source": [
        "VBox([widgets.Label('Is your image clear!'), \n",
        "      btn_upload, out_pl, lbl_pred])"
      ],
      "execution_count": 15,
      "outputs": [
        {
          "output_type": "display_data",
          "data": {
            "application/vnd.jupyter.widget-view+json": {
              "model_id": "46f606e5d9a04c1985e98e553548b178",
              "version_minor": 0,
              "version_major": 2
            },
            "text/plain": [
              "VBox(children=(Label(value='Is your image clear!'), FileUpload(value={'96_0f32_2020-06-26.jpeg': {'metadata': …"
            ]
          },
          "metadata": {
            "tags": []
          }
        },
        {
          "output_type": "display_data",
          "data": {
            "text/html": [
              ""
            ],
            "text/plain": [
              "<IPython.core.display.HTML object>"
            ]
          },
          "metadata": {
            "tags": []
          }
        },
        {
          "output_type": "display_data",
          "data": {
            "text/html": [
              ""
            ],
            "text/plain": [
              "<IPython.core.display.HTML object>"
            ]
          },
          "metadata": {
            "tags": []
          }
        }
      ]
    }
  ]
}